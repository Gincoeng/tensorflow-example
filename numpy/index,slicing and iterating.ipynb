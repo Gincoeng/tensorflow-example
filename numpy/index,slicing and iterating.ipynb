{
 "cells": [
  {
   "cell_type": "code",
   "execution_count": 1,
   "metadata": {},
   "outputs": [
    {
     "name": "stdout",
     "output_type": "stream",
     "text": [
      "[  0   1   8  27  64 125 216 343 512 729]\n"
     ]
    }
   ],
   "source": [
    "import numpy as np\n",
    "a = np.arange(10)**3   #这就是输出10个数字由0开始， **3  这里是代表每个元素的三次方\n",
    "print(a)      #这出来的就是一个一维的array"
   ]
  },
  {
   "cell_type": "code",
   "execution_count": 2,
   "metadata": {},
   "outputs": [
    {
     "name": "stdout",
     "output_type": "stream",
     "text": [
      "8\n"
     ]
    }
   ],
   "source": [
    "print(a[2])   #输出下标为2的元素     注意：下标是从0开始计算的"
   ]
  },
  {
   "cell_type": "code",
   "execution_count": 3,
   "metadata": {},
   "outputs": [
    {
     "name": "stdout",
     "output_type": "stream",
     "text": [
      "[ 8 27 64]\n"
     ]
    }
   ],
   "source": [
    "print(a[2:5])  #输出下标是2- 4 的元素。  注意：这里一定要很注意跟matlab是不同的。\n",
    "               #因为 ： 后面的这个数是 False 就像arange函数里面的参数，实际上是到它的前一个数而已\n",
    "               #注意注意⭐⭐：numpy中startpoint=true，但是endpoint=false  就是说endpoint上的那个数值是不取的，只取到它的前一个数"
   ]
  },
  {
   "cell_type": "code",
   "execution_count": 9,
   "metadata": {},
   "outputs": [
    {
     "name": "stdout",
     "output_type": "stream",
     "text": [
      "[-1000     1 -1000    27 -1000   125   216   343   512   729]\n"
     ]
    }
   ],
   "source": [
    "a[:6:2] = -1000   #相当于 [0:6:2]    前6个元素，让每个处于偶数位置的数置为-1000   即处于 0 2 4 的位置上的数为-1000  \n",
    "print(a)"
   ]
  },
  {
   "cell_type": "code",
   "execution_count": 12,
   "metadata": {},
   "outputs": [
    {
     "name": "stdout",
     "output_type": "stream",
     "text": [
      "[  729   512   343   216   125 -1000    27 -1000     1 -1000]\n"
     ]
    }
   ],
   "source": [
    "print(a[ : :-1])"
   ]
  },
  {
   "cell_type": "code",
   "execution_count": null,
   "metadata": {},
   "outputs": [],
   "source": []
  }
 ],
 "metadata": {
  "kernelspec": {
   "display_name": "Python 3",
   "language": "python",
   "name": "python3"
  },
  "language_info": {
   "codemirror_mode": {
    "name": "ipython",
    "version": 3
   },
   "file_extension": ".py",
   "mimetype": "text/x-python",
   "name": "python",
   "nbconvert_exporter": "python",
   "pygments_lexer": "ipython3",
   "version": "3.5.4"
  }
 },
 "nbformat": 4,
 "nbformat_minor": 2
}
