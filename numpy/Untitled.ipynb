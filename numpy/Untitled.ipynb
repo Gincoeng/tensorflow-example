{
 "cells": [
  {
   "cell_type": "code",
   "execution_count": 3,
   "metadata": {},
   "outputs": [
    {
     "name": "stdout",
     "output_type": "stream",
     "text": [
      "1.15.1\n"
     ]
    }
   ],
   "source": [
    "#这个就是检查自己所安装的numpy库的版本\n",
    "import numpy as np         #第一步就是导入numpy，这是使用numpy的首选必要步骤\n",
    "print(np.version.version)"
   ]
  },
  {
   "cell_type": "code",
   "execution_count": 5,
   "metadata": {},
   "outputs": [
    {
     "name": "stdout",
     "output_type": "stream",
     "text": [
      "[1 2 3 4]\n"
     ]
    }
   ],
   "source": [
    "print(np.array([1,2,3,4]))  #这个是使用numpy以list为参数产生一维数组"
   ]
  },
  {
   "cell_type": "code",
   "execution_count": 21,
   "metadata": {},
   "outputs": [
    {
     "name": "stdout",
     "output_type": "stream",
     "text": [
      "[1.2 2.  3.  4. ]\n"
     ]
    }
   ],
   "source": [
    "print(np.array((1.2,2,3,4)))  #这个是使用numpy以tuple为  参数  产生一维数组,产生两个小数位。"
   ]
  },
  {
   "cell_type": "code",
   "execution_count": 12,
   "metadata": {},
   "outputs": [
    {
     "name": "stdout",
     "output_type": "stream",
     "text": [
      "<class 'numpy.ndarray'>\n"
     ]
    }
   ],
   "source": [
    "print(type(np.array(1.2)))"
   ]
  },
  {
   "cell_type": "code",
   "execution_count": 22,
   "metadata": {},
   "outputs": [
    {
     "name": "stdout",
     "output_type": "stream",
     "text": [
      "[[1 2]\n",
      " [3 4]]\n"
     ]
    }
   ],
   "source": [
    "print(np.array([[1,2],[3,4]]))  #这个是以list为  元素  产生二维数组"
   ]
  },
  {
   "cell_type": "code",
   "execution_count": 24,
   "metadata": {},
   "outputs": [
    {
     "name": "stdout",
     "output_type": "stream",
     "text": [
      "[[1 2]\n",
      " [3 4]]\n"
     ]
    }
   ],
   "source": [
    "print(np.array([(1,2),(3,4)])) #这个就是以tuple为   元素  产生二位数组"
   ]
  },
  {
   "cell_type": "code",
   "execution_count": 39,
   "metadata": {},
   "outputs": [
    {
     "name": "stdout",
     "output_type": "stream",
     "text": [
      "[1 2]\n"
     ]
    }
   ],
   "source": [
    "#生成数组的时候还能够指定数据类型，int32 int16 float64\n",
    "print(np.array((1,2),dtype=np.int32))"
   ]
  },
  {
   "cell_type": "code",
   "execution_count": 40,
   "metadata": {},
   "outputs": [
    {
     "name": "stdout",
     "output_type": "stream",
     "text": [
      "[ 0  1  2  3  4  5  6  7  8  9 10 11 12 13 14]\n",
      "[ 0.  1.  2.  3.  4.  5.  6.  7.  8.  9. 10. 11. 12. 13. 14.]\n",
      "[3 4 5 6 7 8]\n",
      "[3 5 7]\n",
      "[0.  0.1 0.2 0.3 0.4 0.5 0.6 0.7 0.8 0.9]\n"
     ]
    }
   ],
   "source": [
    "print(np.arange(15))     #从0开始生成15个数值，       返回的对象是array，并不是一个list\n",
    "print(np.arange(15.0))   #生成的每个数，都是带有一位小数位的。\n",
    "print(np.arange(3,9))    #这个就是指定起始的数，要注意的是，最后一位不是到9，是到8.   就是到n-1\n",
    "print(np.arange(3,9,2))  #这就是指定了起始的数字，间隔为2.以及到9之前的数\n",
    "print(np.arange(0,1,0.1))"
   ]
  },
  {
   "cell_type": "code",
   "execution_count": 32,
   "metadata": {},
   "outputs": [
    {
     "name": "stdout",
     "output_type": "stream",
     "text": [
      "<class 'numpy.ndarray'>\n"
     ]
    }
   ],
   "source": [
    "print(type(np.arange(15)))"
   ]
  },
  {
   "cell_type": "code",
   "execution_count": 33,
   "metadata": {},
   "outputs": [
    {
     "name": "stdout",
     "output_type": "stream",
     "text": [
      "[[ 0  1  2  3  4]\n",
      " [ 5  6  7  8  9]\n",
      " [10 11 12 13 14]]\n"
     ]
    }
   ],
   "source": [
    "print(np.arange(15).reshape(3,5))       #把生成的15个数，，重组成一个  3*5  的矩阵"
   ]
  },
  {
   "cell_type": "code",
   "execution_count": 42,
   "metadata": {},
   "outputs": [
    {
     "name": "stdout",
     "output_type": "stream",
     "text": [
      "<class 'numpy.ndarray'>\n"
     ]
    }
   ],
   "source": [
    "print(type(np.arange(15).reshape(3,5)))"
   ]
  },
  {
   "cell_type": "code",
   "execution_count": 50,
   "metadata": {},
   "outputs": [
    {
     "name": "stdout",
     "output_type": "stream",
     "text": [
      "[1.   1.25 1.5  1.75 2.   2.25 2.5  2.75 3.  ]\n",
      "[ 1.  2.  3.  4.  5.  6.  7.  8.  9. 10.]\n",
      "[2.   2.25 2.5  2.75 3.  ]\n",
      "(array([2.  , 2.25, 2.5 , 2.75, 3.  ]), 0.25)\n",
      "[2.  2.2 2.4 2.6 2.8]\n"
     ]
    }
   ],
   "source": [
    "#linsapce函数()的应用\n",
    "#np.linspace(start,stop,num=,endpoint=,retstep=,dtype=)   分别对应采样起始点，终结点，采样点的个数，是否作为终结点，如果为true返回sample以及step，最后的是类型\n",
    "print(np.linspace(1,3,9))      #这个就是从  1到3中产生  9个间隔均匀的数\n",
    "print(np.linspace(1,10,10))    #这个就是从  1到10   当中产生10个数，这10个数的间隔都是相等的\n",
    "print(np.linspace(2.0,3.0,num=5))\n",
    "print(np.linspace(2.0,3.0,num=5,retstep=True))\n",
    "print(np.linspace(2.0,3.0,num=5,endpoint=False))   #从2到3之间产生5个间隔相等的数，最后一个数字不等于3  "
   ]
  },
  {
   "cell_type": "code",
   "execution_count": 56,
   "metadata": {},
   "outputs": [
    {
     "name": "stdout",
     "output_type": "stream",
     "text": [
      "[[0. 0. 0. 0.]\n",
      " [0. 0. 0. 0.]\n",
      " [0. 0. 0. 0.]]\n",
      "\n",
      "\n",
      "[[1. 1. 1. 1.]\n",
      " [1. 1. 1. 1.]\n",
      " [1. 1. 1. 1.]]\n",
      "\n",
      "\n",
      "[[1. 0. 0.]\n",
      " [0. 1. 0.]\n",
      " [0. 0. 1.]]\n"
     ]
    }
   ],
   "source": [
    "#使用numpy.zeros,numpy.ones,numpy.eye等方法构造特定的矩阵\n",
    "print(np.zeros((3,4)))  #零矩阵\n",
    "print('\\n')\n",
    "print(np.ones((3,4)))   # 1 矩阵\n",
    "print('\\n')\n",
    "print(np.eye((3)))      # 单位矩阵"
   ]
  },
  {
   "cell_type": "code",
   "execution_count": 60,
   "metadata": {},
   "outputs": [
    {
     "name": "stdout",
     "output_type": "stream",
     "text": [
      "[[[0. 0.]\n",
      "  [0. 0.]]\n",
      "\n",
      " [[0. 0.]\n",
      "  [0. 0.]]]\n",
      "3\n",
      "(2, 2, 2)\n",
      "8\n",
      "float64\n",
      "8\n"
     ]
    }
   ],
   "source": [
    "print(np.zeros((2,2,2)))   #创建的一个三维数组\n",
    "a=np.zeros((2,2,2))\n",
    "print(a.ndim)  #数组的维数\n",
    "print(a.shape) #数组中每一维的大小\n",
    "print(a.size)  #数组中的元素个数\n",
    "print(a.dtype) #数组中的元素类型\n",
    "print(a.itemsize) #数组中的每个元素的字节数"
   ]
  },
  {
   "cell_type": "code",
   "execution_count": 63,
   "metadata": {},
   "outputs": [
    {
     "name": "stdout",
     "output_type": "stream",
     "text": [
      "[[2 3 4]\n",
      " [5 6 7]]\n",
      "7\n",
      "[5 6 7]\n",
      "[6]\n",
      "[[ 2  3  4]\n",
      " [ 8  9 10]]\n"
     ]
    }
   ],
   "source": [
    "#数组中的 索引，切片，赋值     这里的操作是跟matlab中的所有操作时相同的。\n",
    "a=np.array([[2,3,4],[5,6,7]])\n",
    "print(a)    #把array对象a输出\n",
    "\n",
    "print(a[1,2])   #下标是从0开始的，所以这里就是输出 7\n",
    "\n",
    "print(a[1,:])   #这里就是把第二个元素中的  所有元素所有行所有列全部输出\n",
    "\n",
    "print(a[1,1:2]) #输出第二个元素里面的  第一行第二列所在的元素\n",
    "\n",
    "a[1,:]=[8,9,10] #进行赋值\n",
    "print(a)"
   ]
  },
  {
   "cell_type": "code",
   "execution_count": 71,
   "metadata": {},
   "outputs": [
    {
     "name": "stdout",
     "output_type": "stream",
     "text": [
      "1.0\n",
      "3.25\n",
      "5.5\n",
      "7.75\n",
      "10.0\n"
     ]
    }
   ],
   "source": [
    "#在numpy中的循环跟在python中的循环是一样的用法    要记住python的语法\n",
    "for x in np.linspace(1,10,5):\n",
    "    print(x)"
   ]
  },
  {
   "cell_type": "code",
   "execution_count": null,
   "metadata": {},
   "outputs": [],
   "source": []
  }
 ],
 "metadata": {
  "kernelspec": {
   "display_name": "Python 3",
   "language": "python",
   "name": "python3"
  },
  "language_info": {
   "codemirror_mode": {
    "name": "ipython",
    "version": 3
   },
   "file_extension": ".py",
   "mimetype": "text/x-python",
   "name": "python",
   "nbconvert_exporter": "python",
   "pygments_lexer": "ipython3",
   "version": "3.5.4"
  }
 },
 "nbformat": 4,
 "nbformat_minor": 2
}
