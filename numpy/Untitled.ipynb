{
 "cells": [
  {
   "cell_type": "code",
   "execution_count": 2,
   "metadata": {},
   "outputs": [
    {
     "name": "stdout",
     "output_type": "stream",
     "text": [
      "1.14.3\n"
     ]
    }
   ],
   "source": [
    "#这个就是检查自己所安装的numpy库的版本\n",
    "import numpy as np         #第一步就是导入numpy，这是使用numpy的首选必要步骤\n",
    "print(np.version.version)"
   ]
  },
  {
   "cell_type": "code",
   "execution_count": 5,
   "metadata": {},
   "outputs": [
    {
     "name": "stdout",
     "output_type": "stream",
     "text": [
      "[1 2 3 4]\n"
     ]
    }
   ],
   "source": [
    "print(np.array([1,2,3,4]))  #这个是使用numpy以list为参数产生一维数组"
   ]
  },
  {
   "cell_type": "code",
   "execution_count": 21,
   "metadata": {},
   "outputs": [
    {
     "name": "stdout",
     "output_type": "stream",
     "text": [
      "[1.2 2.  3.  4. ]\n"
     ]
    }
   ],
   "source": [
    "print(np.array((1.2,2,3,4)))  #这个是使用numpy以tuple为  参数  产生一维数组,产生两个小数位。"
   ]
  },
  {
   "cell_type": "code",
   "execution_count": 12,
   "metadata": {},
   "outputs": [
    {
     "name": "stdout",
     "output_type": "stream",
     "text": [
      "<class 'numpy.ndarray'>\n"
     ]
    }
   ],
   "source": [
    "print(type(np.array(1.2)))"
   ]
  },
  {
   "cell_type": "code",
   "execution_count": 22,
   "metadata": {},
   "outputs": [
    {
     "name": "stdout",
     "output_type": "stream",
     "text": [
      "[[1 2]\n",
      " [3 4]]\n"
     ]
    }
   ],
   "source": [
    "print(np.array([[1,2],[3,4]]))  #这个是以list为  元素  产生二维数组"
   ]
  },
  {
   "cell_type": "code",
   "execution_count": 24,
   "metadata": {},
   "outputs": [
    {
     "name": "stdout",
     "output_type": "stream",
     "text": [
      "[[1 2]\n",
      " [3 4]]\n"
     ]
    }
   ],
   "source": [
    "print(np.array([(1,2),(3,4)])) #这个就是以tuple为   元素  产生二位数组"
   ]
  },
  {
   "cell_type": "code",
   "execution_count": 39,
   "metadata": {},
   "outputs": [
    {
     "name": "stdout",
     "output_type": "stream",
     "text": [
      "[1 2]\n"
     ]
    }
   ],
   "source": [
    "#生成数组的时候还能够指定数据类型，int32 int16 float64\n",
    "print(np.array((1,2),dtype=np.int32))"
   ]
  },
  {
   "cell_type": "code",
   "execution_count": 40,
   "metadata": {},
   "outputs": [
    {
     "name": "stdout",
     "output_type": "stream",
     "text": [
      "[ 0  1  2  3  4  5  6  7  8  9 10 11 12 13 14]\n",
      "[ 0.  1.  2.  3.  4.  5.  6.  7.  8.  9. 10. 11. 12. 13. 14.]\n",
      "[3 4 5 6 7 8]\n",
      "[3 5 7]\n",
      "[0.  0.1 0.2 0.3 0.4 0.5 0.6 0.7 0.8 0.9]\n"
     ]
    }
   ],
   "source": [
    "print(np.arange(15))     #从0开始生成15个数值，       返回的对象是array，并不是一个list\n",
    "print(np.arange(15.0))   #生成的每个数，都是带有一位小数位的。\n",
    "print(np.arange(3,9))    #这个就是指定起始的数，要注意的是，最后一位不是到9，是到8.   就是到n-1\n",
    "print(np.arange(3,9,2))  #这就是指定了起始的数字，间隔为2.以及到9之前的数\n",
    "print(np.arange(0,1,0.1))"
   ]
  },
  {
   "cell_type": "code",
   "execution_count": 32,
   "metadata": {},
   "outputs": [
    {
     "name": "stdout",
     "output_type": "stream",
     "text": [
      "<class 'numpy.ndarray'>\n"
     ]
    }
   ],
   "source": [
    "print(type(np.arange(15)))"
   ]
  },
  {
   "cell_type": "code",
   "execution_count": 33,
   "metadata": {},
   "outputs": [
    {
     "name": "stdout",
     "output_type": "stream",
     "text": [
      "[[ 0  1  2  3  4]\n",
      " [ 5  6  7  8  9]\n",
      " [10 11 12 13 14]]\n"
     ]
    }
   ],
   "source": [
    "print(np.arange(15).reshape(3,5))       #把生成的15个数，，重组成一个  3*5  的矩阵"
   ]
  },
  {
   "cell_type": "code",
   "execution_count": 42,
   "metadata": {},
   "outputs": [
    {
     "name": "stdout",
     "output_type": "stream",
     "text": [
      "<class 'numpy.ndarray'>\n"
     ]
    }
   ],
   "source": [
    "print(type(np.arange(15).reshape(3,5)))"
   ]
  },
  {
   "cell_type": "code",
   "execution_count": 50,
   "metadata": {},
   "outputs": [
    {
     "name": "stdout",
     "output_type": "stream",
     "text": [
      "[1.   1.25 1.5  1.75 2.   2.25 2.5  2.75 3.  ]\n",
      "[ 1.  2.  3.  4.  5.  6.  7.  8.  9. 10.]\n",
      "[2.   2.25 2.5  2.75 3.  ]\n",
      "(array([2.  , 2.25, 2.5 , 2.75, 3.  ]), 0.25)\n",
      "[2.  2.2 2.4 2.6 2.8]\n"
     ]
    }
   ],
   "source": [
    "#linsapce函数()的应用\n",
    "#np.linspace(start,stop,num=,endpoint=,retstep=,dtype=)   分别对应采样起始点，终结点，采样点的个数，是否作为终结点，如果为true返回sample以及step，最后的是类型\n",
    "print(np.linspace(1,3,9))      #这个就是从  1到3中产生  9个间隔均匀的数\n",
    "print(np.linspace(1,10,10))    #这个就是从  1到10   当中产生10个数，这10个数的间隔都是相等的\n",
    "print(np.linspace(2.0,3.0,num=5))\n",
    "print(np.linspace(2.0,3.0,num=5,retstep=True))\n",
    "print(np.linspace(2.0,3.0,num=5,endpoint=False))   #从2到3之间产生5个间隔相等的数，最后一个数字不等于3  "
   ]
  },
  {
   "cell_type": "code",
   "execution_count": 56,
   "metadata": {},
   "outputs": [
    {
     "name": "stdout",
     "output_type": "stream",
     "text": [
      "[[0. 0. 0. 0.]\n",
      " [0. 0. 0. 0.]\n",
      " [0. 0. 0. 0.]]\n",
      "\n",
      "\n",
      "[[1. 1. 1. 1.]\n",
      " [1. 1. 1. 1.]\n",
      " [1. 1. 1. 1.]]\n",
      "\n",
      "\n",
      "[[1. 0. 0.]\n",
      " [0. 1. 0.]\n",
      " [0. 0. 1.]]\n"
     ]
    }
   ],
   "source": [
    "#使用numpy.zeros,numpy.ones,numpy.eye等方法构造特定的矩阵\n",
    "print(np.zeros((3,4)))  #零矩阵\n",
    "print('\\n')\n",
    "print(np.ones((3,4)))   # 1 矩阵\n",
    "print('\\n')\n",
    "print(np.eye((3)))      # 单位矩阵"
   ]
  },
  {
   "cell_type": "code",
   "execution_count": 60,
   "metadata": {},
   "outputs": [
    {
     "name": "stdout",
     "output_type": "stream",
     "text": [
      "[[[0. 0.]\n",
      "  [0. 0.]]\n",
      "\n",
      " [[0. 0.]\n",
      "  [0. 0.]]]\n",
      "3\n",
      "(2, 2, 2)\n",
      "8\n",
      "float64\n",
      "8\n"
     ]
    }
   ],
   "source": [
    "print(np.zeros((2,2,2)))   #创建的一个三维数组\n",
    "a=np.zeros((2,2,2))\n",
    "print(a.ndim)  #数组的维数\n",
    "print(a.shape) #数组中每一维的大小\n",
    "print(a.size)  #数组中的元素个数\n",
    "print(a.dtype) #数组中的元素类型\n",
    "print(a.itemsize) #数组中的每个元素的字节数"
   ]
  },
  {
   "cell_type": "code",
   "execution_count": 63,
   "metadata": {
    "scrolled": true
   },
   "outputs": [
    {
     "name": "stdout",
     "output_type": "stream",
     "text": [
      "[[2 3 4]\n",
      " [5 6 7]]\n",
      "7\n",
      "[5 6 7]\n",
      "[6]\n",
      "[[ 2  3  4]\n",
      " [ 8  9 10]]\n"
     ]
    }
   ],
   "source": [
    "#数组中的 索引，切片，赋值     这里的操作是跟matlab中的所有操作时相同的。\n",
    "a=np.array([[2,3,4],[5,6,7]])\n",
    "print(a)    #把array对象a输出\n",
    "\n",
    "print(a[1,2])   #下标是从0开始的，所以这里就是输出 7\n",
    "\n",
    "print(a[1,:])   #这里就是把第二个元素中的  所有元素所有行所有列全部输出\n",
    "\n",
    "print(a[1,1:2]) #输出第二个元素里面的  第一行第二列所在的元素 \n",
    "                #注意注意⭐⭐：numpy中startpoint=true，但是endpoint=false  就是说endpoint上的那个数值是不取的，只取到它的前一个数\n",
    "\n",
    "a[1,:]=[8,9,10] #进行赋值\n",
    "print(a)"
   ]
  },
  {
   "cell_type": "code",
   "execution_count": 71,
   "metadata": {},
   "outputs": [
    {
     "name": "stdout",
     "output_type": "stream",
     "text": [
      "1.0\n",
      "3.25\n",
      "5.5\n",
      "7.75\n",
      "10.0\n"
     ]
    }
   ],
   "source": [
    "#在numpy中的循环跟在python中的循环是一样的用法    要记住python的语法\n",
    "for x in np.linspace(1,10,5):\n",
    "    print(x)"
   ]
  },
  {
   "cell_type": "code",
   "execution_count": 75,
   "metadata": {},
   "outputs": [
    {
     "name": "stdout",
     "output_type": "stream",
     "text": [
      "[[1. 1.]\n",
      " [1. 1.]]\n",
      "[[1. 0.]\n",
      " [0. 1.]]\n",
      "[[False False]\n",
      " [False False]]\n",
      "[[2. 1.]\n",
      " [1. 2.]]\n",
      "[[0. 1.]\n",
      " [1. 0.]]\n",
      "[[2. 0.]\n",
      " [0. 2.]]\n",
      "[[4. 0.]\n",
      " [0. 4.]]\n",
      "[[0.5 0. ]\n",
      " [0.  0.5]]\n",
      "[[16. 16.]\n",
      " [16. 16.]]\n",
      "4.0\n",
      "[2. 2.]\n",
      "1.0\n",
      "1.0\n"
     ]
    }
   ],
   "source": [
    "#基本的数组运算\n",
    "a=np.ones((2,2))\n",
    "b=np.eye(2)\n",
    "print(a)\n",
    "print(b)\n",
    "\n",
    "print(a>2) #逻辑运算\n",
    "\n",
    "print(a+b) #加\n",
    "print(a-b) #减\n",
    "\n",
    "print(b*2) #乘\n",
    "\n",
    "print((a*2)*(b*2)) \n",
    "\n",
    "print(b/(a*2)) #除\n",
    "\n",
    "print((a*2)**4) #乘方\n",
    "\n",
    "print(a.sum())  #对所有的元素进行求和\n",
    "\n",
    "print(a.sum(axis=0))  #计算每一列的和\n",
    "\n",
    "print(a.min())   #求出全部元素中的最小值\n",
    "\n",
    "print(a.max())  #求出全部元素中的最大值"
   ]
  },
  {
   "cell_type": "code",
   "execution_count": 79,
   "metadata": {},
   "outputs": [
    {
     "name": "stdout",
     "output_type": "stream",
     "text": [
      "[[0.84147098 0.84147098]\n",
      " [0.84147098 0.84147098]]\n",
      "1.0\n",
      "[[1. 1.]\n",
      " [1. 1.]]\n",
      "[-2. -2. -1.  0.  1.  1.  2.]\n",
      "[[2.71828183 2.71828183]\n",
      " [2.71828183 2.71828183]]\n",
      "[[2. 2.]\n",
      " [2. 2.]]\n"
     ]
    }
   ],
   "source": [
    "print(np.sin(a))  \n",
    "\n",
    "print(np.max(a))\n",
    "\n",
    "print(np.floor(a))  #地板函数，应该就是向下取整函数\n",
    "c=np.array([-1.7,-1.5,-0.2,0.2,1.5,1.7,2.0])\n",
    "print(np.floor(c))\n",
    "\n",
    "print(np.exp(a))\n",
    "\n",
    "print(np.dot(a,a))  #矩阵乘法"
   ]
  },
  {
   "cell_type": "code",
   "execution_count": 84,
   "metadata": {},
   "outputs": [
    {
     "name": "stdout",
     "output_type": "stream",
     "text": [
      "[[1. 1.]\n",
      " [1. 1.]\n",
      " [1. 0.]\n",
      " [0. 1.]]\n",
      "[[1. 1. 1. 0.]\n",
      " [1. 1. 0. 1.]]\n"
     ]
    }
   ],
   "source": [
    "#数组的合并运算\n",
    "a=np.ones((2,2))\n",
    "b=np.eye(2)\n",
    "print(np.vstack((a,b)))  #竖向合并\n",
    "\n",
    "print(np.hstack((a,b)))  #横向合并"
   ]
  },
  {
   "cell_type": "code",
   "execution_count": 91,
   "metadata": {},
   "outputs": [
    {
     "name": "stdout",
     "output_type": "stream",
     "text": [
      "[[1. 1. 1. 1.]\n",
      " [1. 1. 1. 1.]]\n",
      "[[1. 1.]\n",
      " [1. 5.]]\n",
      "[[1. 1.]\n",
      " [1. 5.]]\n",
      "[[1. 1. 1. 1.]\n",
      " [1. 1. 1. 1.]]\n"
     ]
    },
    {
     "data": {
      "text/plain": [
       "array([[ True,  True],\n",
       "       [ True,  True]])"
      ]
     },
     "execution_count": 91,
     "metadata": {},
     "output_type": "execute_result"
    }
   ],
   "source": [
    "#浅拷贝与深拷贝 的问题\n",
    "c=np.hstack((a,b))\n",
    "print(c)\n",
    "\n",
    "a[1,1]=5\n",
    "b[1,1]=5\n",
    "print(a)\n",
    "print(b)\n",
    "\n",
    "print(c)  #从这里可以看出，即使矩阵a，b已经改变了， 但是c并没有受到影响， 没有发生改变\n",
    "\n",
    "#=========================================================================================================================================\n",
    "a=np.ones((2,2))   #这里就是创建一个二阶的 1矩阵\n",
    "b=a                #这不会创建新的对象\n",
    "b is a             #a和b只是同一个对象的两个名字  所以在这里进行逻辑判断的时候就是对的  true\n",
    "\n",
    "\n",
    "c=a.copy()         #在这里就是创建了新的数组和新的数据 \n",
    "c is a             #所以就不是完全一样的了         运行就是false\n",
    "\n",
    "c == a             #这里可以进行判断数据是否相同 ，那肯定是 true的啊"
   ]
  },
  {
   "cell_type": "code",
   "execution_count": 94,
   "metadata": {},
   "outputs": [
    {
     "name": "stdout",
     "output_type": "stream",
     "text": [
      "[[1 0]\n",
      " [2 3]]\n",
      "[[1 2]\n",
      " [0 3]]\n",
      "\n",
      "\n",
      "4\n"
     ]
    }
   ],
   "source": [
    "#矩阵的基本运算\n",
    "a=np.array([[1,0],[2,3]])\n",
    "print(a)\n",
    "\n",
    "print(a.transpose())    #这里就是矩阵的转置\n",
    "\n",
    "print('\\n')\n",
    "\n",
    "print(np.trace(a))      #这里就是计算 矩阵的迹    就是正对角线之和"
   ]
  },
  {
   "cell_type": "code",
   "execution_count": 95,
   "metadata": {},
   "outputs": [
    {
     "name": "stdout",
     "output_type": "stream",
     "text": [
      "(array([3., 1.]), array([[ 0.        ,  0.70710678],\n",
      "       [ 1.        , -0.70710678]]))\n"
     ]
    }
   ],
   "source": [
    "#numpy中的numpy.linalg模块有很多关于矩阵运算的方法\n",
    "\n",
    "import numpy.linalg as nplg   #第一步还是引入这个模块啦\n",
    "print(nplg.eig(a))          #这里就是计算特征值与特征向量"
   ]
  },
  {
   "cell_type": "code",
   "execution_count": 7,
   "metadata": {},
   "outputs": [
    {
     "name": "stdout",
     "output_type": "stream",
     "text": [
      "[[0.6656865  0.31265517 0.44611288 0.73412534 0.01655963 0.13220714\n",
      "  0.77129818 0.92109254 0.69907597 0.5936764 ]\n",
      " [0.22909461 0.1485645  0.7788661  0.43473049 0.07296655 0.50915892\n",
      "  0.89591812 0.41734344 0.54545941 0.95515345]\n",
      " [0.45611037 0.83805763 0.8831515  0.32308728 0.13464086 0.49654278\n",
      "  0.77677816 0.64964005 0.73796127 0.58009971]\n",
      " [0.68007784 0.62021544 0.98728131 0.23947884 0.9344107  0.57190442\n",
      "  0.64990633 0.61934101 0.18842414 0.5509758 ]\n",
      " [0.61085107 0.24047511 0.46787744 0.06619384 0.662231   0.61997704\n",
      "  0.05668059 0.13125375 0.44098742 0.1687499 ]\n",
      " [0.08776277 0.06520556 0.99134478 0.54768204 0.23261125 0.09296178\n",
      "  0.21467867 0.90006129 0.35618149 0.77174666]\n",
      " [0.89571609 0.56106713 0.96284575 0.32782484 0.78769034 0.2990426\n",
      "  0.83186967 0.53584158 0.81595728 0.61055027]\n",
      " [0.1425515  0.13899925 0.60514613 0.74751853 0.38996834 0.6871649\n",
      "  0.06245533 0.83890472 0.23196373 0.82205268]\n",
      " [0.09539189 0.66658048 0.20173626 0.24044504 0.42653445 0.86287221\n",
      "  0.19504856 0.70193128 0.5780009  0.92006016]\n",
      " [0.85443367 0.90968436 0.77635106 0.14267287 0.57768616 0.49876337\n",
      "  0.14794709 0.69647585 0.5877476  0.76973468]]\n",
      "\n",
      "\n",
      "54.695938803678004\n",
      "\n",
      "\n",
      "90\n"
     ]
    }
   ],
   "source": [
    "#numpy创建随机数组\n",
    "print(np.random.rand(10,10))       #创建一个10行10列的随机数组，每一个元素之间的数值都在0-1\n",
    "print('\\n')\n",
    "\n",
    "print(np.random.uniform(0,100))    #创建一个制定范围内的随机数  本例子是0-100print('\\n')\n",
    "print('\\n')\n",
    "\n",
    "print(np.random.randint(0,100))    #这是创建一个0-100范围内的一个整数"
   ]
  },
  {
   "cell_type": "code",
   "execution_count": 12,
   "metadata": {},
   "outputs": [
    {
     "name": "stdout",
     "output_type": "stream",
     "text": [
      "[[1.59180901 1.91299835 1.7394277  1.7354939  1.86935566]\n",
      " [1.77084983 1.58347063 1.67313788 1.71311609 1.53690042]\n",
      " [1.7417051  1.7400402  1.90683649 1.60742252 1.78012505]\n",
      " [1.79124207 1.65188341 1.91870387 1.87343671 1.70262191]]\n",
      "\n",
      "\n",
      "[[1.67313788 1.71311609]\n",
      " [1.90683649 1.60742252]]\n"
     ]
    }
   ],
   "source": [
    "#正态分布\n",
    "f=np.random.normal(1.75,0.1,(4,5))\n",
    "print(f)   #这就是给定了 平均值，标准差， 维度 的正态分布\n",
    "print('\\n')\n",
    "x=f[1:3,2:4]  #注意注意⭐⭐：numpy中startpoint=true，但是endpoint=false  就是说endpoint上的那个数值是不取的，只取到它的前一个数\n",
    "              #第二种说法就是：在python中属于 范围类的集合型数制是包含首而包含尾的。举个例子 给定一个范围（3，10）就是包含3，不包含10的\n",
    "print(x)"
   ]
  },
  {
   "cell_type": "code",
   "execution_count": null,
   "metadata": {},
   "outputs": [],
   "source": []
  }
 ],
 "metadata": {
  "kernelspec": {
   "display_name": "Python 3",
   "language": "python",
   "name": "python3"
  },
  "language_info": {
   "codemirror_mode": {
    "name": "ipython",
    "version": 3
   },
   "file_extension": ".py",
   "mimetype": "text/x-python",
   "name": "python",
   "nbconvert_exporter": "python",
   "pygments_lexer": "ipython3",
   "version": "3.5.4"
  }
 },
 "nbformat": 4,
 "nbformat_minor": 2
}
