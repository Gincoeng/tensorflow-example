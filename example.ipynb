{
 "cells": [
  {
   "cell_type": "code",
   "execution_count": 1,
   "metadata": {},
   "outputs": [
    {
     "ename": "SyntaxError",
     "evalue": "invalid syntax (<ipython-input-1-31afc7150763>, line 3)",
     "output_type": "error",
     "traceback": [
      "\u001b[1;36m  File \u001b[1;32m\"<ipython-input-1-31afc7150763>\"\u001b[1;36m, line \u001b[1;32m3\u001b[0m\n\u001b[1;33m    print type(lst),type(np_lst)\u001b[0m\n\u001b[1;37m             ^\u001b[0m\n\u001b[1;31mSyntaxError\u001b[0m\u001b[1;31m:\u001b[0m invalid syntax\n"
     ]
    }
   ],
   "source": [
    "lst = [[1,3,5],[2,4,6]]\n",
    "np_lst = np.array(lst)\n",
    "print type(lst),type(np_lst)\n",
    "np_lst = np.array(lst,dtype=np.int)#设置元素默认类型为float\n",
    "#默认类型还有bool,int,int8/16/32/64/128,uint16/32/64/128,float...\n",
    "print np_lst.shape,np_lst.ndim,np_lst.dtype,np_lst.itemsize,np_lst.size\n",
    "print np.arange(1,11).reshape(2,5)"
   ]
  },
  {
   "cell_type": "code",
   "execution_count": null,
   "metadata": {},
   "outputs": [],
   "source": [
    "print np.zeros([2,3])\n",
    "print np.ones([2,3])\n",
    "print np.random.rand(2,3),np.random.rand()\n",
    "print np.random.randint(1,10,[2,3])\n",
    "print np.random.randn(2,3),np.random.randn()#正太分布\n",
    "print np.random.choice(['a','b','c'],[2,3])\n",
    "print np.random.beta(1,10,[2,3])#Beta distribution"
   ]
  },
  {
   "cell_type": "code",
   "execution_count": null,
   "metadata": {},
   "outputs": [],
   "source": [
    "np_lst=np.arange(1,11).reshape([2,-1])\n",
    "print np.exp(np_lst)\n",
    "print np.exp2(np_lst)\n",
    "print np.sqrt(np_lst)\n",
    "print np.sin(np_lst)\n",
    "print np.log(np_lst)#底数是自然底数\n",
    "print np_lst.sum(axis=1)#axis取值为0~lst维数-1,代表sum操作的维度\n",
    "print np_lst.max(axis=1),np_lst.min()#axis原理同上\n",
    "print np_lst+np_lst,np_lst**3#加减乘除都是对元素进行操作,**3是三次方\n",
    "l1=np.array([1,2,3,4]);l2=np.array([4,3,2,1])\n",
    "print l1.reshape([2,2]),\"\\n\",l2.reshape([2,2])\n",
    "print np.dot(l1.reshape([2,2]),l2.reshape([2,2]))#dot矩阵相乘\n",
    "print np.concatenate((l1.reshape([2,2]),l2.reshape([2,2])),axis=1)#追加\n",
    "print np.vstack((l1.reshape([2,2]),l2.reshape([2,2])))#纵向追加\n",
    "print np.hstack((l1.reshape([2,2]),l2.reshape([2,2])))#横向追加\n",
    "print np.split(l1,4)#进行切分数组，后面的参数被数组长度整除\n",
    "print np.copy(l1)#拷贝"
   ]
  },
  {
   "cell_type": "code",
   "execution_count": null,
   "metadata": {},
   "outputs": [],
   "source": [
    "from numpy.linalg import *\n",
    "print np.eye(3)#n=3的单位矩阵\n",
    "lst = np.array([[1,2],\n",
    "                [3,4]])\n",
    "print inv(lst)#逆矩阵\n",
    "print lst.transpose()#转置矩阵\n",
    "print det(lst)#行列式\n",
    "print eig(lst)#输出是一个元组，第一个值是特征值，第二个值是特征向量\n",
    "y=np.array([[5.],[7.]])\n",
    "print solve(lst,y)#求方程组，lsy*x=y，输出x"
   ]
  },
  {
   "cell_type": "code",
   "execution_count": null,
   "metadata": {},
   "outputs": [],
   "source": [
    "print np.fft.fft(np.array([1,1,1,1,1,1]))\n",
    "print np.corrcoef([[1,0,1],[0,2,1]])#皮尔逊相关系数\n",
    "print np.poly1d([2,1,2,3])"
   ]
  },
  {
   "cell_type": "code",
   "execution_count": null,
   "metadata": {},
   "outputs": [],
   "source": [
    "arr = np.arange(15).reshape((3,5))\n",
    "print arr\n",
    "print arr.transpose(1,0)\n",
    "print arr.swapaxes(0,1)"
   ]
  },
  {
   "cell_type": "code",
   "execution_count": null,
   "metadata": {},
   "outputs": [],
   "source": [
    "#######matplotlib.pyplot"
   ]
  },
  {
   "cell_type": "code",
   "execution_count": null,
   "metadata": {},
   "outputs": [],
   "source": [
    "#-*-coding:utf-8 -*-\n",
    "import numpy as np\n",
    "import matplotlib.pyplot as plt\n",
    "#定义横轴-pi到pi，256个点，True包含最后一个点\n",
    "x=np.linspace(-np.pi,np.pi,256,endpoint=True)\n",
    "c,s=np.cos(x),np.sin(x)#定义正弦函数和余弦函数\n",
    "plt.figure(1)#定义图1\n",
    "#绘制cos，颜色，线宽，线样式(-,--,:)，标签，透明度\n",
    "plt.plot(x,c,color=\"blue\",linewidth=3.0,linestyle=\":\",label=\"COS\",alpha=0.5)\n",
    "plt.plot(x,s,color=\"red\",linewidth=2.0,linestyle=\"--\",label=\"SIN\")#绘制sin\n",
    "plt.title(\"Title:cos&sin\")#图的标题\n",
    "ax=plt.gca()#轴的编辑器\n",
    "ax.spines[\"right\"].set_color(\"none\")#右边轴隐藏\n",
    "ax.spines[\"top\"].set_color(\"none\")#上边轴隐藏\n",
    "ax.spines[\"left\"].set_position((\"data\",0))#设置左边轴在0的位置\n",
    "ax.spines[\"bottom\"].set_position((\"data\",0))#设置下边轴在0的位置\n",
    "ax.xaxis.set_ticks_position(\"bottom\")#设置轴标签在轴的位置\n",
    "ax.yaxis.set_ticks_position(\"left\")\n",
    "plt.xticks([-np.pi,-np.pi/2,0,np.pi/2,np.pi],#设置x轴标签\n",
    "           [r'$-\\pi$',r'$-\\pi/2$',r'$0$',r'$+\\pi/2$',r'$+\\pi$'])\n",
    "plt.yticks(np.linspace(-1,1,5,endpoint=True))#设置y轴标签\n",
    "for label in ax.get_xticklabels()+ax.get_yticklabels():\n",
    "    label.set_fontsize(8)#设置每个轴标签大小，背景色，框颜色，透明度\n",
    "    label.set_bbox(dict(facecolor=\"red\",edgecolor=\"blue\",alpha=0.2))\n",
    "plt.legend(loc=\"upper left\")#设置类型线标签位置\n",
    "plt.grid()#显示网格线\n",
    "# plt.axis([-1,1,-0.5,1])#图的显示范围，x范围，y范围\n",
    "\n",
    "plt.fill(x,s,color=\"red\",alpha=0.2)#填充函数和坐标轴之间\n",
    "plt.fill_between(x,c,s,color=\"blue\",alpha=0.2)#填充函数之间的区域\n",
    "# interpolate 自动填充空白，当x取得离散点差距较大时，\n",
    "# 显示的时候两个函数之间的区域可能有空白存在，interpolate 就是用来填充这部分区域\n",
    "# plt.fill_between(x, y1, y2, where= y1 >= y2, facecolor = \"blue\", interpolate= True)\n",
    "# plt.fill_between(x, y1, y2, where= y2 > y1, facecolor = \"yellow\", interpolate= True)\n",
    "\n",
    "t=1\n",
    "plt.plot([t,t],[0,np.cos(t)],\"y\",linewidth=3,linestyle=\"--\")\n",
    "plt.annotate(\"cos(1)\",xy=(t,np.cos(1)),#注释图上的内容，注释的位置\n",
    "             xycoords=\"data\",xytext=(+10,+30),#注释位置的偏移量\n",
    "             textcoords=\"offset points\",\n",
    "             arrowprops=dict(arrowstyle=\"->\",connectionstyle=\"arc3,rad=.4\"))#注释箭头类型\n",
    "plt.show()#显示图片"
   ]
  },
  {
   "cell_type": "code",
   "execution_count": null,
   "metadata": {},
   "outputs": [],
   "source": [
    "'''\n",
    "其他图\n",
    "'''\n",
    "fig=plt.figure()#建立一个表格\n",
    "'''scatter散点图'''\n",
    "fig.add_subplot(3,3,1)#加入3行3列第1个子图\n",
    "n=300\n",
    "X=np.random.normal(0,1,n)\n",
    "Y=np.random.normal(0,1,n)\n",
    "T=np.arctan2(Y,X)#?\n",
    "# plt.axes([0.025,0.025,0.95,0.95])#显示范围\n",
    "plt.scatter(X,Y,s=75,c=T,alpha=0.5)#在子图上画散点，s点大小，c颜色\n",
    "plt.xlim(-1.5,1.5),plt.xticks([])#x的范围\n",
    "plt.ylim(-1.5,1.5),plt.yticks([])\n",
    "plt.axis()\n",
    "plt.title(\"scatter\")\n",
    "plt.xlabel(\"x\")\n",
    "plt.ylabel(\"y\")\n",
    "\n",
    "'''bar柱状图'''\n",
    "fig.add_subplot(3,3,2)#加入3行3列第2个子图\n",
    "n=10\n",
    "X=np.arange(n)\n",
    "Y1=(1-X/float(n))*np.random.uniform(0.5,1.0,n)\n",
    "Y2=(1-X/float(n))*np.random.uniform(0.5,1.0,n)\n",
    "'''画柱状图'''\n",
    "plt.bar(X,+Y1,facecolor='#9999ff',edgecolor='white')\n",
    "plt.bar(X,-Y2,facecolor='#ff9999',edgecolor='white')\n",
    "for x, y in zip(X, Y1):\n",
    "    plt.text(x + 0.4, y + 0.05, '%.2f' % y, ha='center', va='bottom')\n",
    "for x, y in zip(X, Y2):\n",
    "    plt.text(x + 0.4, -y - 0.05, '%.2f' % y, ha='center', va='top')\n",
    "\n",
    "'''pie饼图'''\n",
    "fig.add_subplot(3,3,3)\n",
    "n=20\n",
    "Z=np.ones(n)\n",
    "Z[-1]*=2\n",
    "'''画饼图，explode是每个值离中心的距离'''\n",
    "plt.pie(Z,explode=Z*0.05,colors=['%f' % (i/float(n)) for i in range(n)],\n",
    "        labels=['%.2f' % (i/float(n)) for i in range(n)])\n",
    "plt.gca().set_aspect('equal')#保持形状\n",
    "plt.xticks([]),plt.yticks([])\n",
    "\n",
    "'''polar极坐标图'''\n",
    "fig.add_subplot(3,3,4,polar=True)#polar=True表示极坐标\n",
    "n=20\n",
    "theta=np.arange(0.0,2*np.pi,2*np.pi/n)#0到2pi\n",
    "radii=10*np.random.rand(n)\n",
    "plt.plot(theta,radii)#若没有polar则为普通折线图\n",
    "#也可以plt.polar(theta,radii)\n",
    "\n",
    "'''heatmap热图'''\n",
    "fig.add_subplot(3,3,5)\n",
    "from matplotlib import cm\n",
    "data = np.random.rand(3,3)\n",
    "cmap=cm.Reds\n",
    "map=plt.imshow(data,interpolation='nearest',cmap=cmap,aspect='auto',vmin=0,vmax=1)\n",
    "\n",
    "'''3D图'''\n",
    "from mpl_toolkits.mplot3d import Axes3D\n",
    "ax=fig.add_subplot(3,3,6,projection=\"3d\")\n",
    "x=np.array(range(0,10))\n",
    "y=x*np.random.rand(10)\n",
    "z=y+np.random.randn(10)\n",
    "ax.scatter(x,y,z,s=10)\n",
    "\n",
    "'''hotmap热力图'''\n",
    "fig.add_subplot(3,1,3)#3行1列第3个\n",
    "def f(x,y):\n",
    "    return (1-x/2+x**5+y**3)*np.exp(-x**2-y**2)\n",
    "n=256\n",
    "x=np.linspace(-3,3,n)\n",
    "y=np.linspace(-3,3,n)\n",
    "X,Y=np.meshgrid(x,y)\n",
    "plt.contourf(X,Y,f(X,Y),8,alpha=.75,cmap=plt.cm.hot)\n",
    "\n",
    "plt.savefig(\"./data/fig.jpg\")#保存图片\n",
    "plt.show()"
   ]
  },
  {
   "cell_type": "code",
   "execution_count": null,
   "metadata": {},
   "outputs": [],
   "source": [
    "#######scipy"
   ]
  },
  {
   "cell_type": "code",
   "execution_count": 1,
   "metadata": {},
   "outputs": [
    {
     "ename": "SyntaxError",
     "evalue": "invalid syntax (<ipython-input-1-207543e8a3e3>, line 6)",
     "output_type": "error",
     "traceback": [
      "\u001b[1;36m  File \u001b[1;32m\"<ipython-input-1-207543e8a3e3>\"\u001b[1;36m, line \u001b[1;32m6\u001b[0m\n\u001b[1;33m    print type(s),s\u001b[0m\n\u001b[1;37m             ^\u001b[0m\n\u001b[1;31mSyntaxError\u001b[0m\u001b[1;31m:\u001b[0m invalid syntax\n"
     ]
    }
   ],
   "source": [
    "import numpy as np\n",
    "import pandas as pd\n",
    "\n",
    "#Data Structure数据结构\n",
    "s=pd.Series([i*2 for i in range(1,11)])\n",
    "print type(s),s\n",
    "dates=pd.date_range(\"2017-03-01\",periods=8)\n",
    "print dates#生成时间序列\n",
    "\n",
    "df=pd.DataFrame(np.random.randn(8,5),\n",
    "                index=dates,columns=list(\"ABCDE\"))\n",
    "print df\n",
    "# df=pd.DataFrame({\"A\":1,\"B\":pd.Timestamp(\"20170907\"),\n",
    "#                  \"C\":[\"张三\",\"李四\",\"王五\",\"赵六\"]})\n",
    "# print df"
   ]
  },
  {
   "cell_type": "code",
   "execution_count": null,
   "metadata": {},
   "outputs": [],
   "source": [
    "#Basic基本操作\n",
    "print df.head(3)#前三行\n",
    "print df.tail(3)#后三行\n",
    "print df.index\n",
    "print df.values#成为二维数组\n",
    "print df.T#转置\n",
    "print df.sort_values(\"C\")#按照C列排序\n",
    "#对index排序，axis表示对哪个维度的index\n",
    "print df.sort_index(axis=1,ascending=False)\n",
    "print df.describe()\n",
    "#Select选择/切片\n",
    "print df[\"A\"]#DataFrame的A列\n",
    "print type(df[\"A\"])#DataFrame由一列列的Series组成\n",
    "print df[:3]#前三行\n",
    "print df[\"2017-03-01\":\"2017-03-01\"]\n",
    "print df.loc[dates[0]]#取第0行值\n",
    "print df.loc[\"2017-03-01\":\"2017-03-02\",[\"B\",\"E\"]]#取部分值\n",
    "print df.at[dates[0],\"C\"]#取特定的值\n",
    "print df.iloc[1:3,2:4]#直接通过下标取\n",
    "print df.iloc[1,4]\n",
    "print df.iat[1,4]\n",
    "print df[df.B>0][df.A<0]\n",
    "print df[df>0]\n",
    "print df[df[\"E\"].isin([0.0,2.0])]\n",
    "#以上选择的元素也可以进行相应的修改操作"
   ]
  },
  {
   "cell_type": "code",
   "execution_count": null,
   "metadata": {},
   "outputs": [],
   "source": [
    "#Missing Values\n",
    "df1=df.reindex(index=dates[:4],columns=list(\"ABCD\")+[\"G\"])\n",
    "df1.loc[dates[0]:dates[1],\"G\"]=1\n",
    "print df1\n",
    "#对于缺失值，一般直接丢弃或者填充\n",
    "#填充则填充固定值或者插值\n",
    "print df1.dropna()#直接丢弃\n",
    "print df1.fillna(value=1)#填充固定值"
   ]
  },
  {
   "cell_type": "code",
   "execution_count": null,
   "metadata": {},
   "outputs": [],
   "source": [
    "#Statistic\n",
    "print df.mean()#均值，结果就是一个Series\n",
    "print df.var()#方差\n",
    "s=pd.Series([1,2,4,np.nan,5,7,9,10],index=dates)\n",
    "print s\n",
    "print s.shift(2)#值后移2个\n",
    "print s.diff()\n",
    "print s.value_counts()#打印该值出现的次数\n",
    "print df.apply(np.cumsum)\n",
    "print df.apply(lambda x:x.max()-x.min())\n",
    "\n",
    "print pd.concat([df[:3],df[-3:]])#拼接\n",
    "left=pd.DataFrame({\"Key\":[\"x\",\"y\"],\"value\":[1,2]})\n",
    "right=pd.DataFrame({\"Key\":[\"x\",\"z\"],\"value\":[3,4]})\n",
    "print left,\"\\n\",right\n",
    "print pd.merge(left,right,on=\"Key\",how=\"outer\")#类似sql连接\n",
    "print df.groupby(\"A\").sum()#按照A列排序print df.sort_values(\"A\")\n",
    "\n",
    "#Reshape\n",
    "df[\"C\"]=list(\"12345678\")\n",
    "#透视表\n",
    "print pd.pivot_table(df,values=\"D\",index=[\"A\",\"B\"],columns=[\"C\"])"
   ]
  },
  {
   "cell_type": "code",
   "execution_count": null,
   "metadata": {},
   "outputs": [],
   "source": [
    "#Time Series\n",
    "timeTest=pd.date_range(\"20170907\",periods=10,freq=\"S\")\n",
    "print timeTest\n",
    "#Graph\n",
    "ts=pd.Series(np.random.randn(1000),index=pd.date_range(\"20170907\",periods=1000))\n",
    "ts=ts.cumsum()\n",
    "from pylab import *\n",
    "ts.plot()\n",
    "show()\n",
    "\n",
    "#File\n",
    "df.to_csv(\"./data/test.csv\")\n",
    "df.to_excel(\"./data/test.xlsx\",\"Sheet1\")\n",
    "dfcsv=pd.read_csv(\"./data/test.csv\")\n",
    "dfexc=pd.read_excel(\"./data/test.xlsx\",\"Sheet1\")"
   ]
  },
  {
   "cell_type": "code",
   "execution_count": null,
   "metadata": {},
   "outputs": [],
   "source": [
    "######scikit-learn"
   ]
  },
  {
   "cell_type": "code",
   "execution_count": null,
   "metadata": {},
   "outputs": [],
   "source": [
    "############决策树\n",
    "\n",
    "#数据集\n",
    "from sklearn.datasets import load_iris\n",
    "iris=load_iris()\n",
    "print iris\n",
    "print len(iris[\"data\"])\n",
    "\n",
    "#数据预处理\n",
    "from sklearn.model_selection import train_test_split\n",
    "#划分数据集为训练和预测\n",
    "train_data,test_data,train_target,test_target = \\\n",
    "    train_test_split(iris.data,iris.target,test_size=0.2,random_state=1)\n",
    "\n",
    "#模型\n",
    "from sklearn import tree\n",
    "clf=tree.DecisionTreeClassifier(criterion=\"entropy\")\n",
    "clf.fit(train_data,train_target)#训练模型\n",
    "y_pred=clf.predict(test_data)#预测\n",
    "\n",
    "#Verify\n",
    "from sklearn import metrics\n",
    "print metrics.accuracy_score(y_true=test_target,y_pred=y_pred)\n",
    "print metrics.confusion_matrix(y_true=test_target,y_pred=y_pred)\n",
    "\n",
    "#输出到文件\n",
    "with open(\"./data/tree.dot\",\"w\") as fw:\n",
    "    tree.export_graphviz(clf,out_file=fw)"
   ]
  },
  {
   "cell_type": "code",
   "execution_count": null,
   "metadata": {},
   "outputs": [],
   "source": [
    "#支持向量机\n",
    "'''支持向量机'''\n",
    "print \"=\"*40,\"支持向量机\"\n",
    "from sklearn.svm import SVC\n",
    "clf = SVC(probability=True)\n",
    "clf.fit(train_data, train_target)\n",
    "y_pred=clf.predict(test_data)#预测\n",
    "#Verify\n",
    "print metrics.accuracy_score(y_true=test_target,y_pred=y_pred)\n",
    "print metrics.confusion_matrix(y_true=test_target,y_pred=y_pred)"
   ]
  },
  {
   "cell_type": "code",
   "execution_count": null,
   "metadata": {},
   "outputs": [],
   "source": [
    "#朴素贝叶斯\n",
    "'''朴素贝叶斯'''\n",
    "print \"=\"*40,\"朴素贝叶斯\"\n",
    "from sklearn import metrics\n",
    "from sklearn.naive_bayes import GaussianNB\n",
    "model = GaussianNB()\n",
    "model.fit(train_data, train_target)\n",
    "print(model)\n",
    "# make predictions\n",
    "expected = test_target\n",
    "predicted = model.predict(test_data)\n",
    "# summarize the fit of the model\n",
    "print metrics.accuracy_score(y_true=test_target,y_pred=predicted)\n",
    "# print(metrics.classification_report(expected, predicted))\n",
    "print(metrics.confusion_matrix(expected, predicted))"
   ]
  },
  {
   "cell_type": "code",
   "execution_count": null,
   "metadata": {},
   "outputs": [],
   "source": [
    "#  K近邻\n",
    "'''K近邻'''\n",
    "print \"=\"*40,\"k近邻\"\n",
    "from sklearn import metrics\n",
    "from sklearn.neighbors import KNeighborsClassifier\n",
    "# fit a k-nearest neighbor model to the data\n",
    "model = KNeighborsClassifier()\n",
    "model.fit(train_data, train_target)\n",
    "print(model)\n",
    "# make predictions\n",
    "expected = test_target\n",
    "predicted = model.predict(test_data)\n",
    "# summarize the fit of the model\n",
    "print metrics.accuracy_score(y_true=test_target,y_pred=predicted)\n",
    "# print(metrics.classification_report(expected, predicted))\n",
    "print(metrics.confusion_matrix(expected, predicted))"
   ]
  },
  {
   "cell_type": "code",
   "execution_count": null,
   "metadata": {},
   "outputs": [],
   "source": [
    "###逻辑回归\n",
    "'''逻辑回归'''\n",
    "print \"=\"*40,\"k近邻\"\n",
    "#大多数情况下被用来解决分类问题（二元分类），但多类的分类（所谓的一对多方法）也适用。\n",
    "# 这个算法的优点是对于每一个输出的对象都有一个对应类别的概率。\n",
    "import numpy as np\n",
    "import urllib\n",
    "# url with dataset\n",
    "url = \"http://archive.ics.uci.edu/ml/machine-learning-databases/pima-indians-diabetes/pima-indians-diabetes.data\"\n",
    "# download the file\n",
    "raw_data = urllib.urlopen(url)\n",
    "# load the CSV file as a numpy matrix\n",
    "dataset = np.loadtxt(raw_data, delimiter=\",\")\n",
    "# separate the data from the target attributes\n",
    "X = dataset[:,0:7]\n",
    "y = dataset[:,8]\n",
    "\n",
    "from sklearn import metrics\n",
    "from sklearn.linear_model import LogisticRegression\n",
    "model = LogisticRegression()\n",
    "model.fit(X, y)\n",
    "print(model)\n",
    "# make predictions\n",
    "expected = y\n",
    "predicted = model.predict(X)\n",
    "# summarize the fit of the model\n",
    "print(metrics.classification_report(expected, predicted))\n",
    "print(metrics.confusion_matrix(expected, predicted))"
   ]
  },
  {
   "cell_type": "code",
   "execution_count": null,
   "metadata": {},
   "outputs": [],
   "source": [
    "###########keras"
   ]
  },
  {
   "cell_type": "code",
   "execution_count": null,
   "metadata": {},
   "outputs": [],
   "source": [
    "import numpy as np\n",
    "from keras.models import Sequential\n",
    "from keras.layers import Dense,Activation\n",
    "from keras.optimizers import SGD\n",
    "#报错ImportError: No module named tensorflow\n",
    "#修改C:\\Users\\SUN\\.keras下keras.json\n",
    "\n",
    "#数据集\n",
    "from sklearn.datasets import load_iris\n",
    "iris=load_iris()\n",
    "print iris[\"target\"]\n",
    "#标签化\n",
    "from sklearn.preprocessing import LabelBinarizer\n",
    "print LabelBinarizer().fit_transform(iris[\"target\"])\n",
    "\n",
    "#数据预处理\n",
    "from sklearn.model_selection import train_test_split\n",
    "#划分数据集为训练和预测\n",
    "train_data,test_data,train_target,test_target = \\\n",
    "    train_test_split(iris.data,iris.target,test_size=0.2,random_state=1)\n",
    "labels_train=LabelBinarizer().fit_transform(train_target)\n",
    "labels_test=LabelBinarizer().fit_transform(test_target)\n",
    "\n",
    "model=Sequential(\n",
    "    [\n",
    "        Dense(5,input_dim=4),#第一层的输出输入4个属性\n",
    "        Activation(\"relu\"),#结果函数\n",
    "        Dense(3),#第二层的输入5省略，输出3个类别\n",
    "        Activation(\"sigmoid\"),#结果函数\n",
    "    ]\n",
    ")\n",
    "#也可使用下面方法一层层加\n",
    "# model=Sequential()\n",
    "# model.add(Dense(5,input_dim=4))\n",
    "\n",
    "sgd=SGD(lr=0.01,decay=1e-6,momentum=0.9,nesterov=True)\n",
    "model.compile(optimizer=sgd,loss=\"categorical_crossentropy\")\n",
    "model.fit(train_data,labels_train,nb_epoch=200,batch_size=40)\n",
    "\n",
    "print model.predict_classes(test_data)\n",
    "\n",
    "model.save_weights(\"./data/weight\")#保存训练的权值\n",
    "model.load_weights(\"./data/weight\")#读取之前训练的权值"
   ]
  },
  {
   "cell_type": "code",
   "execution_count": null,
   "metadata": {},
   "outputs": [],
   "source": []
  },
  {
   "cell_type": "code",
   "execution_count": null,
   "metadata": {},
   "outputs": [],
   "source": []
  },
  {
   "cell_type": "code",
   "execution_count": null,
   "metadata": {},
   "outputs": [],
   "source": []
  },
  {
   "cell_type": "code",
   "execution_count": null,
   "metadata": {},
   "outputs": [],
   "source": []
  },
  {
   "cell_type": "code",
   "execution_count": null,
   "metadata": {},
   "outputs": [],
   "source": []
  },
  {
   "cell_type": "code",
   "execution_count": null,
   "metadata": {},
   "outputs": [],
   "source": []
  },
  {
   "cell_type": "code",
   "execution_count": null,
   "metadata": {},
   "outputs": [],
   "source": []
  },
  {
   "cell_type": "code",
   "execution_count": null,
   "metadata": {},
   "outputs": [],
   "source": []
  },
  {
   "cell_type": "code",
   "execution_count": null,
   "metadata": {},
   "outputs": [],
   "source": []
  },
  {
   "cell_type": "code",
   "execution_count": null,
   "metadata": {},
   "outputs": [],
   "source": []
  },
  {
   "cell_type": "code",
   "execution_count": null,
   "metadata": {},
   "outputs": [],
   "source": []
  },
  {
   "cell_type": "code",
   "execution_count": null,
   "metadata": {},
   "outputs": [],
   "source": []
  },
  {
   "cell_type": "code",
   "execution_count": null,
   "metadata": {},
   "outputs": [],
   "source": []
  },
  {
   "cell_type": "code",
   "execution_count": null,
   "metadata": {},
   "outputs": [],
   "source": []
  },
  {
   "cell_type": "code",
   "execution_count": null,
   "metadata": {},
   "outputs": [],
   "source": []
  },
  {
   "cell_type": "code",
   "execution_count": null,
   "metadata": {},
   "outputs": [],
   "source": []
  },
  {
   "cell_type": "code",
   "execution_count": null,
   "metadata": {},
   "outputs": [],
   "source": []
  },
  {
   "cell_type": "code",
   "execution_count": null,
   "metadata": {},
   "outputs": [],
   "source": []
  },
  {
   "cell_type": "code",
   "execution_count": null,
   "metadata": {},
   "outputs": [],
   "source": []
  },
  {
   "cell_type": "code",
   "execution_count": null,
   "metadata": {},
   "outputs": [],
   "source": []
  },
  {
   "cell_type": "code",
   "execution_count": null,
   "metadata": {},
   "outputs": [],
   "source": []
  },
  {
   "cell_type": "code",
   "execution_count": null,
   "metadata": {},
   "outputs": [],
   "source": []
  },
  {
   "cell_type": "code",
   "execution_count": null,
   "metadata": {},
   "outputs": [],
   "source": []
  },
  {
   "cell_type": "code",
   "execution_count": null,
   "metadata": {},
   "outputs": [],
   "source": []
  },
  {
   "cell_type": "code",
   "execution_count": null,
   "metadata": {},
   "outputs": [],
   "source": []
  },
  {
   "cell_type": "code",
   "execution_count": null,
   "metadata": {},
   "outputs": [],
   "source": []
  },
  {
   "cell_type": "code",
   "execution_count": null,
   "metadata": {},
   "outputs": [],
   "source": []
  },
  {
   "cell_type": "code",
   "execution_count": null,
   "metadata": {},
   "outputs": [],
   "source": []
  },
  {
   "cell_type": "code",
   "execution_count": null,
   "metadata": {},
   "outputs": [],
   "source": []
  },
  {
   "cell_type": "code",
   "execution_count": null,
   "metadata": {},
   "outputs": [],
   "source": []
  },
  {
   "cell_type": "code",
   "execution_count": null,
   "metadata": {},
   "outputs": [],
   "source": []
  },
  {
   "cell_type": "code",
   "execution_count": null,
   "metadata": {},
   "outputs": [],
   "source": []
  }
 ],
 "metadata": {
  "kernelspec": {
   "display_name": "Python 3",
   "language": "python",
   "name": "python3"
  },
  "language_info": {
   "codemirror_mode": {
    "name": "ipython",
    "version": 3
   },
   "file_extension": ".py",
   "mimetype": "text/x-python",
   "name": "python",
   "nbconvert_exporter": "python",
   "pygments_lexer": "ipython3",
   "version": "3.5.4"
  }
 },
 "nbformat": 4,
 "nbformat_minor": 2
}
