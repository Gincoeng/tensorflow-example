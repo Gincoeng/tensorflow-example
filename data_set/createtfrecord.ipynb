{
 "cells": [
  {
   "cell_type": "code",
   "execution_count": 14,
   "metadata": {},
   "outputs": [],
   "source": [
    "import os\n",
    "import tensorflow as tf\n",
    "from PIL import Image\n",
    "\n",
    "cwd = os.getcwd()  #获取当前目录\n",
    "classes = {'bus','flower'}  #预先定义自己要分的类别\n",
    "\n",
    "#制作tfrecord数据\n",
    "writer = tf.python_io.TFRecordWriter('fenlei_train.tfrecords')  #要生成的TFRecord的名字\n",
    "\n",
    "def _int64_feature(value):\n",
    "    return tf.train.Feature(int64_list = tf.train.Int64List(value=[value]))\n",
    "def _bytes_feature(value):\n",
    "    return tf.train.Feature(bytes_list= tf.train.BytesList(value=[value]))\n",
    "\n",
    "for index, name in enumerate(classes):  #第一个循环是打开马 和 花这两个文件夹\n",
    "    class_path = cwd+'/'+name+'/'\n",
    "    \n",
    "    for img_name in os.listdir(class_path):  #开始遍历每一张图片\n",
    "        img_path = class_path+img_name  #每个图片的地址\n",
    "        \n",
    "        img = Image.open(img_path)  #打开每一张图片\n",
    "        img = img.resize((64,64))  #将图片设置为指定的大小\n",
    "        img_raw = img.tobytes() #将图片转化为二进制格式\n",
    "        \n",
    "          ######### 这里的内容就是对label image进行封装\n",
    "        example = tf.train.Example(\n",
    "            features=tf.train.Features(feature={\n",
    "                'label':_int64_feature(index),\n",
    "                'img_raw':_bytes_feature(img_raw)\n",
    "                }))\n",
    "          #########\n",
    "            \n",
    "        writer.write(example.SerializeToString())#序列化为字符串\n",
    "writer.close()\n",
    "\n",
    "            "
   ]
  },
  {
   "cell_type": "code",
   "execution_count": null,
   "metadata": {},
   "outputs": [],
   "source": []
  },
  {
   "cell_type": "code",
   "execution_count": null,
   "metadata": {},
   "outputs": [],
   "source": []
  },
  {
   "cell_type": "code",
   "execution_count": null,
   "metadata": {},
   "outputs": [],
   "source": []
  }
 ],
 "metadata": {
  "kernelspec": {
   "display_name": "Python 3",
   "language": "python",
   "name": "python3"
  },
  "language_info": {
   "codemirror_mode": {
    "name": "ipython",
    "version": 3
   },
   "file_extension": ".py",
   "mimetype": "text/x-python",
   "name": "python",
   "nbconvert_exporter": "python",
   "pygments_lexer": "ipython3",
   "version": "3.6.5"
  }
 },
 "nbformat": 4,
 "nbformat_minor": 2
}
