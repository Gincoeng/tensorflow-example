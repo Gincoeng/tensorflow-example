{
 "cells": [
  {
   "cell_type": "code",
   "execution_count": null,
   "metadata": {},
   "outputs": [],
   "source": [
    "# ==============================================================================\n",
    "#                                  给文件夹里面的所有图片改名字\n",
    "# ==============================================================================\n",
    "\n",
    "import tensorflow as tf\n",
    "import os\n",
    "from PIL import Image\n",
    "import matplotlib.pyplot as plt\n",
    "\n",
    "classes = {'train','test'}\n",
    "\n",
    "i = 0\n",
    "\n",
    "cwd = os.getcwd()\n",
    "save_path = cwd + '/' + 'gen_pic'\n",
    "print(save_path)\n",
    "\n",
    "for _,name in enumerate(classes):\n",
    "    path = cwd + '/' + name + '/'\n",
    "\n",
    "    for img_name in os.listdir(path):\n",
    "        img_path = path + img_name\n",
    "        print(img_path)    #这里是先打印出每张图片的路径\n",
    "        img = Image.open(img_path)\n",
    "        print(img.size)\n",
    "        print(img.mode)\n",
    "        print(img.format)\n",
    "        plt.figure('Image')\n",
    "        plt.axis('on')\n",
    "        plt.imshow(img)\n",
    "        plt.show()\n",
    "        img.save(save_path+'/'+str(i)+'.jpg')\n",
    "        i += 1\n",
    "\n",
    "print(i)"
   ]
  },
  {
   "cell_type": "code",
   "execution_count": null,
   "metadata": {},
   "outputs": [],
   "source": []
  }
 ],
 "metadata": {
  "kernelspec": {
   "display_name": "Python 3",
   "language": "python",
   "name": "python3"
  },
  "language_info": {
   "codemirror_mode": {
    "name": "ipython",
    "version": 3
   },
   "file_extension": ".py",
   "mimetype": "text/x-python",
   "name": "python",
   "nbconvert_exporter": "python",
   "pygments_lexer": "ipython3",
   "version": "3.6.7"
  }
 },
 "nbformat": 4,
 "nbformat_minor": 2
}
