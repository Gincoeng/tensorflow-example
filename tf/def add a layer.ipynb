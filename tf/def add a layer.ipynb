{
 "cells": [
  {
   "cell_type": "code",
   "execution_count": null,
   "metadata": {},
   "outputs": [],
   "source": [
    "#怎么添加神经网络里面的层，  def a layer\n",
    "import tensorflow as tf\n",
    "\n",
    "\n",
    "\n",
    "def add_layer(inputs,in_size,out_size,activation_function=None):\n",
    "    Weights = tf.Variable(tf.random_normal([in_size,out_size]))  #定义一个变量矩阵，有in_size行，out_size列\n",
    "    biases = tf.Variable(tf.zeros([1,out_size])+0.1)    # 1行，out_size列 ；加上0.1是因为机器学习中biases是正值，\n",
    "                                                        # 防止biases为负数，所以就加上一个0.1\n",
    "    Wx_plus_b = tf.matmul(inputs,Weights)+biases\n",
    "    if activation_function is None:\n",
    "        outputs = Wx_plus_b\n",
    "    else：\n",
    "        outputs = activation_function(Wx_plus_b)\n",
    "    return outputs\n",
    "        \n",
    "    \n",
    "    \n",
    "    \n",
    "    "
   ]
  }
 ],
 "metadata": {
  "kernelspec": {
   "display_name": "Python 3",
   "language": "python",
   "name": "python3"
  },
  "language_info": {
   "codemirror_mode": {
    "name": "ipython",
    "version": 3
   },
   "file_extension": ".py",
   "mimetype": "text/x-python",
   "name": "python",
   "nbconvert_exporter": "python",
   "pygments_lexer": "ipython3",
   "version": "3.5.4"
  }
 },
 "nbformat": 4,
 "nbformat_minor": 2
}
