{
 "cells": [
  {
   "cell_type": "code",
   "execution_count": 1,
   "metadata": {},
   "outputs": [
    {
     "name": "stdout",
     "output_type": "stream",
     "text": [
      "INFO:tensorflow:Restoring parameters from /home/ginchoeng/jupyternotebook/mytest/tf/saver/save_net.ckpt\n",
      "weights: [[1. 2. 3.]\n",
      " [3. 4. 5.]]\n",
      "biases: [[1. 2. 3.]]\n"
     ]
    }
   ],
   "source": [
    "import tensorflow as tf\n",
    "import numpy as np\n",
    "\n",
    "# #以下就是怎么保存训练好的模型的方法\n",
    "# #save to file   当我们有训练好的weight以及biases的时候，怎么去保存呢，  假设有weight是两行三列的一个数\n",
    "# W = tf.Variable([[1,2,3],[3,4,5]],dtype=tf.float32,name='weights')\n",
    "# b = tf.Variable([[1,2,3]],dtype=tf.float32,name='biases')\n",
    "\n",
    "# init = tf.global_variables_initializer()\n",
    "# sess = tf.Session()\n",
    "# sess.run(init)\n",
    "\n",
    "# saver = tf.train.Saver()\n",
    "\n",
    "# save_path = saver.save(sess,'/home/ginchoeng/jupyternotebook/mytest/tf/saver/save_net.ckpt') #这里的意思是保存整一个sess，后面是保存路径\n",
    "# print('Save to path:',save_path)\n",
    "\n",
    "# #到这里为止就是怎么保存训练好的模型的程序\n",
    "\n",
    "\n",
    "\n",
    "#进行restore的时候，一定要定义跟你存储时候相同的 数据类型就是tf.float32 还有这个 shape\n",
    "#下面开始导入训练好的模型, 注意导入的不是一整个网络，只是训练好的参数而已，所以整个神经网络的框架是要重新搭建的\n",
    "W = tf.Variable(np.arange(6).reshape((2,3)),dtype=tf.float32,name='weights')\n",
    "b = tf.Variable(np.arange(3).reshape((1,3)),dtype=tf.float32,name='biases') #这就是定义的空框架\n",
    "#在restore的时候，不用全局初始化，不用init\n",
    "saver = tf.train.Saver()\n",
    "sess = tf.Session()\n",
    "tf.reset_default_graph()#使用jupyternotebook就需要添加上这句话，否则会报错\n",
    "saver.restore(sess,'/home/ginchoeng/jupyternotebook/mytest/tf/saver/save_net.ckpt')#填上地址\n",
    "print('weights:',sess.run(W))\n",
    "print('biases:',sess.run(b))"
   ]
  },
  {
   "cell_type": "code",
   "execution_count": null,
   "metadata": {},
   "outputs": [],
   "source": []
  }
 ],
 "metadata": {
  "kernelspec": {
   "display_name": "Python 3",
   "language": "python",
   "name": "python3"
  },
  "language_info": {
   "codemirror_mode": {
    "name": "ipython",
    "version": 3
   },
   "file_extension": ".py",
   "mimetype": "text/x-python",
   "name": "python",
   "nbconvert_exporter": "python",
   "pygments_lexer": "ipython3",
   "version": "3.6.5"
  }
 },
 "nbformat": 4,
 "nbformat_minor": 2
}
