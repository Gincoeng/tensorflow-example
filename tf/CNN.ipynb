{
 "cells": [
  {
   "cell_type": "code",
   "execution_count": null,
   "metadata": {},
   "outputs": [],
   "source": [
    "import tensorflow as tf\n",
    "from tensorflow.examples.tutorials.mnist import input_data  #导入数据\n",
    "#下面这一行跟分类器中的是一样的\n",
    "mnist = input_data.read_data_sets('MNIST_data',one_hot=True)\n",
    "\n",
    "\n",
    "def compute_accuracy(v_xs,v_ys):\n",
    "    global prediction\n",
    "    y_pre = sess.run(prediction,feed_dict={xs:v_xs,keep_prob:1})\n",
    "    correct_prediction = tf.equal(tf.argmax(y_pre,1),tf.arfmax(v_ys,1))\n",
    "    accuracy = tf.reduce_mean(tf.cast(correct_prediction,tf.float32))\n",
    "    result = sess.run(accuracy,feed_dict={xs:v_xs,ys:v_ys,keep_prob:1})\n",
    "    return result\n",
    "\n",
    "def weight_variable(shape):\n",
    "    initial = tf.truncated_normal(shape,stddev=0.1)\n",
    "    return tf.Variable(initial)\n",
    "\n",
    "def bias_variable(shape):\n",
    "    initial = tf.constant(0.1,shape=shape)\n",
    "    return tf.Variable(initial)\n",
    "\n",
    "#定义卷积神经网络层了\n",
    "def conv2d(x,W):   # x代表输入的值，或者是图片的值。 W就是weight\n",
    "    #strides=[1,x轴移动距离，y轴移动距离，1]\n",
    "    return tf.nn.conv2d(x,W,strides=[1,1,1,1],padding='SAME')#padding就是选择是否使用填充的扫描方式\n",
    "    #这里就是返回tensorflow中2维的卷积神经网络。 \n",
    "    \n",
    "    #第三个参数就是设置步长，在tensorflow中它是一个长度为4的列表。在这个列表中第一个以及最后一个元素都是必须等于1的。列表中间的两个\n",
    "    #参数分别是代表在x轴，y轴上移动的距离\n",
    "    \n",
    "def max_pool_2*2(x):\n",
    "    return tf.nn.max_pool(x,ksize=[1,2,2,1],strides=[1,2,2,1],padding='SAME')\n",
    "    #使用最大池化的方法， ksize=[1,height,width,1]这个是池化窗口的大小\n",
    "\n",
    "#设置placeholder来进行数据的传输\n",
    "xs = tf.placeholder(tf.float32,[None,784])\n",
    "ys = tf.placeholder(tf.float32,[None,10])\n",
    "keep_prob = tf.placeholder(tf.float32)\n",
    "\n",
    "\n",
    "#设置代价误差函数\n",
    "cross_entropy = tf.reduce_mean(-tf.reduce_sum(ys*tf.log(prediction),reduction_indices=[1]))\n",
    "# tf.summary.scalar('loss',cross_entropy)\n",
    "train_step = tf.train.AdamOptimizer(1e-4).minimize(cross_entropy)\n",
    "\n",
    "#全局变量的初始化\n",
    "init = tf.global_variables_initializer()\n",
    "sess = tf.Session()\n",
    "sess.run(init)\n",
    "\n",
    "for i in range(1000):\n",
    "    batch_xs,batch_ys = mnist.train.next_batch(100)\n",
    "    sess.run(train_step,feed_dict={xs:batch_xs,ys:batch_ys,keep_prob:0.5})\n",
    "    if i % 50 == 0:\n",
    "        print(compute_accuracy(mnist.test.images[:1000],mnist.test.labels[:1000]))\n"
   ]
  }
 ],
 "metadata": {
  "kernelspec": {
   "display_name": "Python 3",
   "language": "python",
   "name": "python3"
  },
  "language_info": {
   "codemirror_mode": {
    "name": "ipython",
    "version": 3
   },
   "file_extension": ".py",
   "mimetype": "text/x-python",
   "name": "python",
   "nbconvert_exporter": "python",
   "pygments_lexer": "ipython3",
   "version": "3.6.5"
  }
 },
 "nbformat": 4,
 "nbformat_minor": 2
}
