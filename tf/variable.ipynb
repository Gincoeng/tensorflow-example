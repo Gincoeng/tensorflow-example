{
 "cells": [
  {
   "cell_type": "code",
   "execution_count": 15,
   "metadata": {},
   "outputs": [
    {
     "name": "stdout",
     "output_type": "stream",
     "text": [
      "counter_7:0\n"
     ]
    }
   ],
   "source": [
    "#在tensorflow中定义变量，是跟python中的不一样。 \n",
    "import tensorflow as tf\n",
    "\n",
    "state = tf.Variable(0,name='counter')   #这个就是在tensorflow中的定义，跟python中是不一样的。   在定义变量的时候能够 赋值， 命名\n",
    "print(state.name)"
   ]
  },
  {
   "cell_type": "code",
   "execution_count": 1,
   "metadata": {},
   "outputs": [
    {
     "name": "stdout",
     "output_type": "stream",
     "text": [
      "counter:0\n",
      "1\n",
      "2\n",
      "3\n"
     ]
    }
   ],
   "source": [
    "\n",
    "#tensorflow中的变量定义 Variable\n",
    "\n",
    "import tensorflow as tf\n",
    "\n",
    "state = tf.Variable(0,name='counter')\n",
    "print(state.name)\n",
    "\n",
    "one = tf.constant(1)\n",
    "\n",
    "new_value = tf.add(state,one) \n",
    "update = tf.assign(state,new_value)   #tf.assign就是一个赋值函数， 把后者的值赋值给前者\n",
    "\n",
    "init = tf.global_variables_initializer()\n",
    "\n",
    "with tf.Session() as sess:\n",
    "    sess.run(init)\n",
    "    for _ in range(3):\n",
    "        sess.run(update)\n",
    "        print(sess.run(state))"
   ]
  },
  {
   "cell_type": "code",
   "execution_count": 14,
   "metadata": {},
   "outputs": [
    {
     "name": "stdout",
     "output_type": "stream",
     "text": [
      "[[2 3]\n",
      " [2 4]]\n"
     ]
    }
   ],
   "source": [
    "#  tf.add()用法： 这个函数是将括号内的两个数相加，要注意这两个数应该 类型相同。\n",
    "x = tf.constant([[1,2],[1,2]])\n",
    "y = tf.constant([[1,1],[1,2]])\n",
    "new_value1 = tf.add(x,y)\n",
    "sess = tf.Session()\n",
    "print(sess.run(new_value1))"
   ]
  },
  {
   "cell_type": "code",
   "execution_count": null,
   "metadata": {},
   "outputs": [],
   "source": []
  },
  {
   "cell_type": "code",
   "execution_count": null,
   "metadata": {},
   "outputs": [],
   "source": []
  }
 ],
 "metadata": {
  "kernelspec": {
   "display_name": "Python 3",
   "language": "python",
   "name": "python3"
  },
  "language_info": {
   "codemirror_mode": {
    "name": "ipython",
    "version": 3
   },
   "file_extension": ".py",
   "mimetype": "text/x-python",
   "name": "python",
   "nbconvert_exporter": "python",
   "pygments_lexer": "ipython3",
   "version": "3.5.4"
  }
 },
 "nbformat": 4,
 "nbformat_minor": 2
}
