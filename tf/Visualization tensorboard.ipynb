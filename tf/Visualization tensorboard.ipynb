{
 "cells": [
  {
   "cell_type": "code",
   "execution_count": 3,
   "metadata": {},
   "outputs": [
    {
     "data": {
      "image/png": "[encoded data removed]",
      "text/plain": [
       "<Figure size 432x288 with 1 Axes>"
      ]
     },
     "metadata": {},
     "output_type": "display_data"
    },
    {
     "name": "stdout",
     "output_type": "stream",
     "text": [
      "0.4307909\n",
      "0.015448321\n",
      "0.009452161\n",
      "0.007931989\n",
      "0.0074058217\n",
      "0.007080176\n",
      "0.0068378346\n",
      "0.0066534323\n",
      "0.0064856247\n",
      "0.006344426\n",
      "0.0062171845\n",
      "0.00609764\n",
      "0.005984382\n",
      "0.005879313\n",
      "0.005773534\n",
      "0.0056635644\n",
      "0.0055412776\n",
      "0.0053821825\n",
      "0.005197614\n",
      "0.004999304\n"
     ]
    }
   ],
   "source": [
    "#怎么构建一个可视化的tensorboard\n",
    "import tensorflow as tf\n",
    "import numpy as np\n",
    "import matplotlib.pyplot as plt\n",
    "\n",
    "#添加神经网络层\n",
    "def add_layer(inputs,in_size,out_size,activation_function=None):\n",
    "    with tf.name_scope('layer'):\n",
    "        with tf.name_scope('weights'):\n",
    "            Weights = tf.Variable(tf.random_normal([in_size,out_size]),name='w')\n",
    "        with tf.name_scope('biases'):\n",
    "            biases = tf.Variable(tf.zeros([1,out_size])+0.1,name='b')\n",
    "        with tf.name_scope('Wx_plus_b'):\n",
    "            Wx_plus_b = tf.add(tf.matmul(inputs,Weights),biases)\n",
    "        if activation_function is None:\n",
    "            outputs = Wx_plus_b\n",
    "        else:\n",
    "            outputs = activation_function(Wx_plus_b)\n",
    "        return outputs\n",
    "    \n",
    "#生成用于训练的数据\n",
    "x_data = np.linspace(-1,1,300)[:,np.newaxis]\n",
    "noise = np.random.normal(0,0.05,x_data.shape)\n",
    "y_data = np.square(x_data)-0.5+noise\n",
    "\n",
    "#添加用于输入，输出数据的placeholder\n",
    "with tf.name_scope('inputs'):\n",
    "    xs = tf.placeholder(tf.float32,[None,1],name='x_input')\n",
    "    ys = tf.placeholder(tf.float32,[None,1],name='y_input')\n",
    "\n",
    "#添加隐藏层\n",
    "l1 = add_layer(xs,1,10,activation_function=tf.nn.relu)\n",
    "\n",
    "#添加输出层\n",
    "prediction = add_layer(l1,10,1,activation_function=None)\n",
    "\n",
    "#设置代价函数\n",
    "with tf.name_scope('loss'):\n",
    "    loss = tf.reduce_mean(tf.reduce_sum(tf.square(ys-prediction),reduction_indices=[1]))\n",
    "with tf.name_scope('train'):\n",
    "    train_step = tf.train.GradientDescentOptimizer(0.1).minimize(loss)\n",
    "\n",
    "#神经网络最重要的一步就是初始化全局所有要用到的变量\n",
    "\n",
    "init = tf.global_variables_initializer()\n",
    "sess = tf.Session()\n",
    "sess.run(init)\n",
    "\n",
    "writer = tf.summary.FileWriter('logs/',sess.graph)        #⭐⭐在可视化当中，这一步是很恨重要的。\n",
    "\n",
    "# #把生成的数据可视化\n",
    "\n",
    "fig = plt.figure()\n",
    "ax = fig.add_subplot(1,1,1)\n",
    "ax.scatter(x_data,y_data)\n",
    "plt.ion()\n",
    "plt.show()\n",
    "\n",
    "#开始训练数据\n",
    "for i in range(1000):\n",
    "    sess.run(train_step,feed_dict={xs:x_data,ys:y_data})\n",
    "    if i % 50 == 0:\n",
    "        print(sess.run(loss,feed_dict={xs:x_data,ys:y_data}))\n"
   ]
  },
  {
   "cell_type": "code",
   "execution_count": null,
   "metadata": {},
   "outputs": [],
   "source": []
  }
 ],
 "metadata": {
  "kernelspec": {
   "display_name": "Python 3",
   "language": "python",
   "name": "python3"
  },
  "language_info": {
   "codemirror_mode": {
    "name": "ipython",
    "version": 3
   },
   "file_extension": ".py",
   "mimetype": "text/x-python",
   "name": "python",
   "nbconvert_exporter": "python",
   "pygments_lexer": "ipython3",
   "version": "3.5.4"
  }
 },
 "nbformat": 4,
 "nbformat_minor": 2
}
