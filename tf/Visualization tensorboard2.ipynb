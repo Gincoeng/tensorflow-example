{
 "cells": [
  {
   "cell_type": "code",
   "execution_count": 2,
   "metadata": {},
   "outputs": [
    {
     "data": {
      "image/png": "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\n",
      "text/plain": [
       "<Figure size 432x288 with 1 Axes>"
      ]
     },
     "metadata": {},
     "output_type": "display_data"
    },
    {
     "name": "stdout",
     "output_type": "stream",
     "text": [
      "0.2337395\n",
      "0.011572749\n",
      "0.008380474\n",
      "0.0073459856\n",
      "0.006590246\n",
      "0.0059040203\n",
      "0.005329697\n",
      "0.0048825475\n",
      "0.0045646667\n",
      "0.004331482\n",
      "0.0041337674\n",
      "0.0039631934\n",
      "0.0038025435\n",
      "0.003675342\n",
      "0.0035741718\n",
      "0.0034728765\n",
      "0.0033839894\n",
      "0.0033014424\n",
      "0.0032312262\n",
      "0.0031724358\n"
     ]
    }
   ],
   "source": [
    "#要学会用histogram以及scalar来查看训练情况   主要是用于查看添加的神经网络层以及代价函数两部分的模块\n",
    "#特别是用scalar来查看 cost_function是否有收敛，以此来检验所构造的机器学习模型的效果\n",
    "\n",
    "import tensorflow as tf\n",
    "import numpy as np\n",
    "import matplotlib.pyplot as plt\n",
    "\n",
    "#添加神经网络层\n",
    "def add_layer(inputs,in_size,out_size,n_layer,activation_function=None):  #在这里增加了神经层的名字\n",
    "    layer_name = 'layer%s' % n_layer   #这一行的作用就是\n",
    "    with tf.name_scope('layer'):\n",
    "        with tf.name_scope('weights'):\n",
    "            Weights = tf.Variable(tf.random_normal([in_size,out_size]),name='w')#要注意的是：对于生成数据要仔细想清楚是否要加中括号\n",
    "            tf.summary.histogram(layer_name+'/weights',Weights) #这一行就是完成 name命名，Weights赋值\n",
    "        with tf.name_scope('biases'):\n",
    "            biases = tf.Variable(tf.zeros([1,out_size])+0.1,name='b')\n",
    "            tf.summary.histogram(layer_name+'/biases',biases)  #这一行也是 命名和赋值\n",
    "        with tf.name_scope('Wx_plus_b'):\n",
    "            Wx_plus_b = tf.add(tf.matmul(inputs,Weights),biases)\n",
    "        if activation_function is None:\n",
    "            outputs = Wx_plus_b\n",
    "        else:\n",
    "            outputs = activation_function(Wx_plus_b)\n",
    "            tf.summary.histogram(layer_name+'outputs',outputs) #命名  赋值\n",
    "        return outputs\n",
    "    \n",
    "#生成用于训练的数据\n",
    "x_data = np.linspace(-1,1,300)[:,np.newaxis]\n",
    "noise = np.random.normal(0,0.05,x_data.shape)\n",
    "y_data = np.square(x_data)-0.5+noise\n",
    "\n",
    "\n",
    "#添加用于输入，输出数据的placeholder\n",
    "with tf.name_scope('inputs'):\n",
    "    xs = tf.placeholder(tf.float32,[None,1],name='x_input')\n", #这里的[None，1]是代表不规定有多少个样本，但是规定每一个样本的大小。
                                                     #对于这里的就是每次输入一个，因为只有一个特征。假如是图像的话，就是输入图像的像素个数。
    "    ys = tf.placeholder(tf.float32,[None,1],name='y_input')\n",
    "\n",
    "#添加隐藏层\n",
    "l1 = add_layer(xs,1,10,n_layer=1,activation_function=tf.nn.relu)  #因为定义的神经网络函数中增添了，n_layer这个参数，所以要加\n",
    "\n",
    "#添加输出层\n",
    "prediction = add_layer(l1,10,1,n_layer=2,activation_function=None) #因为定义的神经网络函数中增添了，n_layer这个参数所以要加\n",
    "\n",
    "#设置代价函数\n",
    "with tf.name_scope('loss'):\n",
    "    loss = tf.reduce_mean(tf.reduce_sum(tf.square(ys-prediction),reduction_indices=[1]))\n",
    "    tf.summary.scalar('loss',loss)  #命名 赋值\n",
    "with tf.name_scope('train'):\n",
    "    train_step = tf.train.GradientDescentOptimizer(0.1).minimize(loss)\n",
    "\n",
    "#神经网络最重要的一步就是初始化全局所有要用到的变量\n",
    "\n",
    "init = tf.global_variables_initializer()\n",
    "sess = tf.Session()\n",
    "sess.run(init)\n",
    "\n",
    "#在数据可视化当中非常非常重要的步骤，\n",
    "merged = tf.summary.merge_all()  #合并到summary中\n",
    "writer = tf.summary.FileWriter('logs2/',sess.graph)        #⭐⭐在可视化当中，这一步是很恨重要的。 选定可视化存储目录，\n",
    "                                                            #这个文件夹的名字就是  logs2\n",
    "\n",
    "# #把生成的数据可视化\n",
    "\n",
    "fig = plt.figure()\n",
    "ax = fig.add_subplot(1,1,1)\n",
    "ax.scatter(x_data,y_data)\n",
    "plt.ion()\n",
    "plt.show()\n",
    "\n",
    "#开始训练数据\n",
    "for i in range(1000):\n",
    "    sess.run(train_step,feed_dict={xs:x_data,ys:y_data})\n",
    "    if i % 50 == 0:\n",
    "        # merged也是需要sess.run的\n",
    "        result = sess.run(merged,feed_dict={xs:x_data,ys:y_data})\n",
    "        writer.add_summary(result,i)\n",
    "        #然后就是添加到可视化图中\n",
    "        \n",
    "        print(sess.run(loss,feed_dict={xs:x_data,ys:y_data}))"
   ]
  },
  {
   "cell_type": "code",
   "execution_count": null,
   "metadata": {},
   "outputs": [],
   "source": []
  }
 ],
 "metadata": {
  "kernelspec": {
   "display_name": "Python 3",
   "language": "python",
   "name": "python3"
  },
  "language_info": {
   "codemirror_mode": {
    "name": "ipython",
    "version": 3
   },
   "file_extension": ".py",
   "mimetype": "text/x-python",
   "name": "python",
   "nbconvert_exporter": "python",
   "pygments_lexer": "ipython3",
   "version": "3.6.5"
  }
 },
 "nbformat": 4,
 "nbformat_minor": 2
}
