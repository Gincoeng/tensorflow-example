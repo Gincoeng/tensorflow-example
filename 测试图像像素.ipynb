{
 "cells": [
  {
   "cell_type": "code",
   "execution_count": null,
   "metadata": {
    "scrolled": false
   },
   "outputs": [],
   "source": [
    "import os #引入与 操作系统 打交道的模块\n",
    "from PIL import Image   #PIL就是python image library\n",
    "import matplotlib.pyplot as plt\n",
    "\n",
    "for i in range(670):\n",
    "    try:\n",
    "        img = Image.open(os.path.join(r'F:\\anacondapython\\lunwen\\shizi594'+'\\\\'+str(i)+'.jpg'))\n",
    "        print('\\n')\n",
    "        print(str(i))\n",
    "        print(img.size)\n",
    "        print(img.mode)\n",
    "        print(img.format)\n",
    "        shumu = i+1\n",
    "        plt.figure('Image')  #生成一个显示图片的窗口\n",
    "        plt.imshow(img)\n",
    "        plt.axis('on')\n",
    "        plt.title('image')\n",
    "        plt.show()\n",
    "        \n",
    "    except FileNotFoundError:\n",
    "        continue\n",
    "        \n",
    "print(shumu)"
   ]
  },
  {
   "cell_type": "code",
   "execution_count": null,
   "metadata": {},
   "outputs": [],
   "source": []
  },
  {
   "cell_type": "code",
   "execution_count": null,
   "metadata": {},
   "outputs": [],
   "source": []
  }
 ],
 "metadata": {
  "kernelspec": {
   "display_name": "Python 3",
   "language": "python",
   "name": "python3"
  },
  "language_info": {
   "codemirror_mode": {
    "name": "ipython",
    "version": 3
   },
   "file_extension": ".py",
   "mimetype": "text/x-python",
   "name": "python",
   "nbconvert_exporter": "python",
   "pygments_lexer": "ipython3",
   "version": "3.6.4"
  }
 },
 "nbformat": 4,
 "nbformat_minor": 2
}
